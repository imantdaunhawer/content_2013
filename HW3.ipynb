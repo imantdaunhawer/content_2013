{
 "cells": [
  {
   "cell_type": "markdown",
   "metadata": {},
   "source": [
    "# Homework 3. Bayesian Tomatoes"
   ]
  },
  {
   "cell_type": "markdown",
   "metadata": {},
   "source": [
    "Due Thursday, October 17, 11:59pm"
   ]
  },
  {
   "cell_type": "markdown",
   "metadata": {},
   "source": [
    "<div class=\"banner-container\">\n",
    "<img src=\"http://content7.flixster.com/movie/11/16/81/11168101_det.jpg\" width=180>\n",
    "</div>\n",
    "\n",
    "<div class=\"banner-container\">\n",
    "<img src=\"http://content6.flixster.com/movie/11/15/15/11151508_det.jpg\" width=180>\n",
    "</div>\n",
    "\n",
    "<div class=\"banner-container\">\n",
    "<img src=\"http://content9.flixster.com/movie/11/16/61/11166199_det.jpg\" width=180>\n",
    "</div>\n",
    "\n",
    "<div class=\"clear\"> </div>\n",
    "\n",
    "<style type=\"text/css\">\n",
    ".banner-container {\n",
    "height:350px;\n",
    "margin-left: 30px;\n",
    "float:left;\n",
    "}\n",
    ".clear {\n",
    "clear:both;\n",
    "}\n",
    "</style>"
   ]
  },
  {
   "cell_type": "markdown",
   "metadata": {},
   "source": [
    "In this assignment, you'll be analyzing movie reviews from [Rotten Tomatoes](http://www.rottentomatoes.com). This assignment will cover:\n",
    "\n",
    " * Working with web APIs\n",
    " * Making and interpreting predictions from a Bayesian perspective\n",
    " * Using the Naive Bayes algorithm to predict whether a movie review is positive or negative\n",
    " * Using cross validation to optimize models\n",
    "\n",
    "Useful libraries for this assignment\n",
    "\n",
    "* [numpy](http://docs.scipy.org/doc/numpy-dev/user/index.html), for arrays\n",
    "* [scikit-learn](http://scikit-learn.org/stable/), for machine learning\n",
    "* [json](http://docs.python.org/2/library/json.html) for parsing JSON data from the web.\n",
    "* [pandas](http://pandas.pydata.org/), for data frames\n",
    "* [matplotlib](http://matplotlib.org/), for plotting\n",
    "* [requests](http://docs.python-requests.org/en/latest/), for downloading web content"
   ]
  },
  {
   "cell_type": "code",
   "execution_count": 54,
   "metadata": {
    "collapsed": false
   },
   "outputs": [],
   "source": [
    "%matplotlib inline\n",
    "\n",
    "# %pdb # for debugging \n",
    "\n",
    "import json\n",
    "\n",
    "import requests\n",
    "import pandas as pd\n",
    "import numpy as np\n",
    "import matplotlib.pyplot as plt\n",
    "import seaborn as sns\n",
    "\n",
    "pd.set_option('display.width', 500)\n",
    "pd.set_option('display.max_columns', 30)\n",
    "\n",
    "# set some nicer defaults for matplotlib\n",
    "from matplotlib import rcParams\n",
    "\n",
    "#these colors come from colorbrewer2.org. Each is an RGB triplet\n",
    "dark2_colors = [(0.10588235294117647, 0.6196078431372549, 0.4666666666666667),\n",
    "                (0.8509803921568627, 0.37254901960784315, 0.00784313725490196),\n",
    "                (0.4588235294117647, 0.4392156862745098, 0.7019607843137254),\n",
    "                (0.9058823529411765, 0.1607843137254902, 0.5411764705882353),\n",
    "                (0.4, 0.6509803921568628, 0.11764705882352941),\n",
    "                (0.9019607843137255, 0.6705882352941176, 0.00784313725490196),\n",
    "                (0.6509803921568628, 0.4627450980392157, 0.11372549019607843),\n",
    "                (0.4, 0.4, 0.4)]\n",
    "\n",
    "rcParams['figure.figsize'] = (10, 6)\n",
    "rcParams['figure.dpi'] = 150\n",
    "rcParams['axes.color_cycle'] = dark2_colors\n",
    "rcParams['lines.linewidth'] = 2\n",
    "rcParams['axes.grid'] = False\n",
    "rcParams['axes.facecolor'] = 'white'\n",
    "rcParams['font.size'] = 14\n",
    "rcParams['patch.edgecolor'] = 'none'\n",
    "\n",
    "\n",
    "def remove_border(axes=None, top=False, right=False, left=True, bottom=True):\n",
    "    \"\"\"\n",
    "    Minimize chartjunk by stripping out unnecessary plot borders and axis ticks\n",
    "    \n",
    "    The top/right/left/bottom keywords toggle whether the corresponding plot border is drawn\n",
    "    \"\"\"\n",
    "    ax = axes or plt.gca()\n",
    "    ax.spines['top'].set_visible(top)\n",
    "    ax.spines['right'].set_visible(right)\n",
    "    ax.spines['left'].set_visible(left)\n",
    "    ax.spines['bottom'].set_visible(bottom)\n",
    "    \n",
    "    #turn off all ticks\n",
    "    ax.yaxis.set_ticks_position('none')\n",
    "    ax.xaxis.set_ticks_position('none')\n",
    "    \n",
    "    #now re-enable visibles\n",
    "    if top:\n",
    "        ax.xaxis.tick_top()\n",
    "    if bottom:\n",
    "        ax.xaxis.tick_bottom()\n",
    "    if left:\n",
    "        ax.yaxis.tick_left()\n",
    "    if right:\n",
    "        ax.yaxis.tick_right()"
   ]
  },
  {
   "cell_type": "markdown",
   "metadata": {},
   "source": [
    "## Introduction\n",
    "\n",
    "Rotten Tomatoes gathers movie reviews from critics. An [entry on the website](http://www.rottentomatoes.com/m/primer/reviews/?type=top_critics) typically consists of a short quote, a link to the full review, and a Fresh/Rotten classification which summarizes whether the critic liked/disliked the movie.\n",
    "\n",
    "\n",
    "When critics give quantitative ratings (say 3/4 stars, Thumbs up, etc.), determining the Fresh/Rotten classification is easy. However, publications like the New York Times don't assign numerical ratings to movies, and thus the Fresh/Rotten classification must be inferred from the text of the review itself.\n",
    "\n",
    "This basic task of categorizing text has many applications. All of the following questions boil down to text classification:\n",
    "\n",
    " * Is a movie review positive or negative?\n",
    " * Is an email spam, or not?\n",
    " * Is a comment on a blog discussion board appropriate, or not?\n",
    " * Is a tweet about your company positive, or not?\n",
    " \n",
    "\n",
    "Language is incredibly nuanced, and there is an entire field of computer science dedicated to the topic (Natural Language Processing). Nevertheless, we can construct basic language models using fairly straightforward techniques. \n",
    "\n",
    "## The Data\n",
    "\n",
    "You will be starting with a database of Movies, derived from the MovieLens dataset. This dataset includes information for about 10,000 movies, including the IMDB id for each movie. \n",
    "\n",
    "Your first task is to download Rotten Tomatoes reviews from 3000 of these movies, using the Rotten Tomatoes API (Application Programming Interface)."
   ]
  },
  {
   "cell_type": "markdown",
   "metadata": {},
   "source": [
    "### Working with Web APIs\n",
    "Web APIs are a more convenient way for programs to interact with websites. Rotten Tomatoes has a nice API that gives access to its data in JSON format.\n",
    "\n",
    "To use this, you will first need to [register for an API key](http://developer.rottentomatoes.com/member/register). For \"application URL\", you can use anything -- it doesn't matter.\n",
    "\n",
    "After you have a key, the [documentation page](http://developer.rottentomatoes.com/iodocs) shows the various data you can fetch from Rotten Tomatoes -- each type of data lives at a different web address. The basic pattern for fetching this data with Python is as follows (compare this to the `Movie Reviews` tab on the documentation page):"
   ]
  },
  {
   "cell_type": "code",
   "execution_count": 55,
   "metadata": {
    "collapsed": false
   },
   "outputs": [
    {
     "name": "stdout",
     "output_type": "stream",
     "text": [
      "<type 'dict'>\n",
      "{u'error': u'Account Inactive'}\n"
     ]
    }
   ],
   "source": [
    "api_key = '' # TODO make sure to not publish the key\n",
    "movie_id = '770672122'  # toy story 3\n",
    "url = 'http://api.rottentomatoes.com/api/public/v1.0/movies/%s/reviews.json' % movie_id\n",
    "\n",
    "#these are \"get parameters\"\n",
    "options = {'review_type': 'top_critic', 'page_limit': 20, 'page': 1, 'apikey': api_key}\n",
    "data = requests.get(url, params=options).text\n",
    "data = json.loads(data)  # load a json string into a collection of lists and dicts\n",
    "print type(data)\n",
    "print data\n"
   ]
  },
  {
   "cell_type": "markdown",
   "metadata": {},
   "source": [
    "## Part 1: Get the data\n",
    "Here's a chunk of the MovieLens Dataset:"
   ]
  },
  {
   "cell_type": "code",
   "execution_count": 56,
   "metadata": {
    "collapsed": false
   },
   "outputs": [
    {
     "name": "stdout",
     "output_type": "stream",
     "text": [
      "id                1\n",
      "title     Toy story\n",
      "imdbID       114709\n",
      "year           1995\n",
      "Name: 0, dtype: object\n"
     ]
    },
    {
     "data": {
      "text/html": [
       "<div>\n",
       "<table border=\"1\" class=\"dataframe\">\n",
       "  <thead>\n",
       "    <tr style=\"text-align: right;\">\n",
       "      <th></th>\n",
       "      <th>id</th>\n",
       "      <th>title</th>\n",
       "      <th>imdbID</th>\n",
       "      <th>spanishTitle</th>\n",
       "      <th>imdbPictureURL</th>\n",
       "      <th>year</th>\n",
       "      <th>rtID</th>\n",
       "      <th>rtAllCriticsRating</th>\n",
       "      <th>rtAllCriticsNumReviews</th>\n",
       "      <th>rtAllCriticsNumFresh</th>\n",
       "      <th>rtAllCriticsNumRotten</th>\n",
       "      <th>rtAllCriticsScore</th>\n",
       "      <th>rtTopCriticsRating</th>\n",
       "      <th>rtTopCriticsNumReviews</th>\n",
       "      <th>rtTopCriticsNumFresh</th>\n",
       "      <th>rtTopCriticsNumRotten</th>\n",
       "      <th>rtTopCriticsScore</th>\n",
       "      <th>rtAudienceRating</th>\n",
       "      <th>rtAudienceNumRatings</th>\n",
       "      <th>rtAudienceScore</th>\n",
       "      <th>rtPictureURL</th>\n",
       "    </tr>\n",
       "  </thead>\n",
       "  <tbody>\n",
       "    <tr>\n",
       "      <th>0</th>\n",
       "      <td>1</td>\n",
       "      <td>Toy story</td>\n",
       "      <td>114709</td>\n",
       "      <td>Toy story (juguetes)</td>\n",
       "      <td>http://ia.media-imdb.com/images/M/MV5BMTMwNDU0...</td>\n",
       "      <td>1995</td>\n",
       "      <td>toy_story</td>\n",
       "      <td>9</td>\n",
       "      <td>73</td>\n",
       "      <td>73</td>\n",
       "      <td>0</td>\n",
       "      <td>100</td>\n",
       "      <td>8.5</td>\n",
       "      <td>17</td>\n",
       "      <td>17</td>\n",
       "      <td>0</td>\n",
       "      <td>100</td>\n",
       "      <td>3.7</td>\n",
       "      <td>102338</td>\n",
       "      <td>81</td>\n",
       "      <td>http://content7.flixster.com/movie/10/93/63/10...</td>\n",
       "    </tr>\n",
       "    <tr>\n",
       "      <th>1</th>\n",
       "      <td>2</td>\n",
       "      <td>Jumanji</td>\n",
       "      <td>113497</td>\n",
       "      <td>Jumanji</td>\n",
       "      <td>http://ia.media-imdb.com/images/M/MV5BMzM5NjE1...</td>\n",
       "      <td>1995</td>\n",
       "      <td>1068044-jumanji</td>\n",
       "      <td>5.6</td>\n",
       "      <td>28</td>\n",
       "      <td>13</td>\n",
       "      <td>15</td>\n",
       "      <td>46</td>\n",
       "      <td>5.8</td>\n",
       "      <td>5</td>\n",
       "      <td>2</td>\n",
       "      <td>3</td>\n",
       "      <td>40</td>\n",
       "      <td>3.2</td>\n",
       "      <td>44587</td>\n",
       "      <td>61</td>\n",
       "      <td>http://content8.flixster.com/movie/56/79/73/56...</td>\n",
       "    </tr>\n",
       "    <tr>\n",
       "      <th>2</th>\n",
       "      <td>3</td>\n",
       "      <td>Grumpy Old Men</td>\n",
       "      <td>107050</td>\n",
       "      <td>Dos viejos gruñones</td>\n",
       "      <td>http://ia.media-imdb.com/images/M/MV5BMTI5MTgy...</td>\n",
       "      <td>1993</td>\n",
       "      <td>grumpy_old_men</td>\n",
       "      <td>5.9</td>\n",
       "      <td>36</td>\n",
       "      <td>24</td>\n",
       "      <td>12</td>\n",
       "      <td>66</td>\n",
       "      <td>7</td>\n",
       "      <td>6</td>\n",
       "      <td>5</td>\n",
       "      <td>1</td>\n",
       "      <td>83</td>\n",
       "      <td>3.2</td>\n",
       "      <td>10489</td>\n",
       "      <td>66</td>\n",
       "      <td>http://content6.flixster.com/movie/25/60/25602...</td>\n",
       "    </tr>\n",
       "  </tbody>\n",
       "</table>\n",
       "</div>"
      ],
      "text/plain": [
       "   id           title  imdbID          spanishTitle                                     imdbPictureURL  year             rtID rtAllCriticsRating rtAllCriticsNumReviews rtAllCriticsNumFresh rtAllCriticsNumRotten rtAllCriticsScore rtTopCriticsRating rtTopCriticsNumReviews rtTopCriticsNumFresh rtTopCriticsNumRotten rtTopCriticsScore rtAudienceRating rtAudienceNumRatings rtAudienceScore                                       rtPictureURL\n",
       "0   1       Toy story  114709  Toy story (juguetes)  http://ia.media-imdb.com/images/M/MV5BMTMwNDU0...  1995        toy_story                  9                     73                   73                     0               100                8.5                     17                   17                     0               100              3.7               102338              81  http://content7.flixster.com/movie/10/93/63/10...\n",
       "1   2         Jumanji  113497               Jumanji  http://ia.media-imdb.com/images/M/MV5BMzM5NjE1...  1995  1068044-jumanji                5.6                     28                   13                    15                46                5.8                      5                    2                     3                40              3.2                44587              61  http://content8.flixster.com/movie/56/79/73/56...\n",
       "2   3  Grumpy Old Men  107050   Dos viejos gruñones  http://ia.media-imdb.com/images/M/MV5BMTI5MTgy...  1993   grumpy_old_men                5.9                     36                   24                    12                66                  7                      6                    5                     1                83              3.2                10489              66  http://content6.flixster.com/movie/25/60/25602..."
      ]
     },
     "execution_count": 56,
     "metadata": {},
     "output_type": "execute_result"
    }
   ],
   "source": [
    "from io import StringIO  \n",
    "movie_txt = requests.get('https://raw.github.com/cs109/cs109_data/master/movies.dat').text\n",
    "movie_file = StringIO(movie_txt) # treat a string like a file\n",
    "movies = pd.read_csv(movie_file, delimiter='\\t')\n",
    "\n",
    "#print the first row\n",
    "print movies[['id', 'title', 'imdbID', 'year']].iloc[0]\n",
    "movies.head(3)"
   ]
  },
  {
   "cell_type": "markdown",
   "metadata": {},
   "source": [
    "#### P1.1\n",
    "\n",
    "We'd like you to write a function that looks up the first 20 Top Critic Rotten Tomatoes reviews for a movie in the `movies` dataframe. This involves two steps:\n",
    "\n",
    "1. Use the `Movie Alias` API to look up the Rotten Tomatoes movie id from the IMDB id\n",
    "1. Use the `Movie Reviews` API to fetch the first 20 top-critic reviews for this movie\n",
    "\n",
    "Not all movies have Rotten Tomatoes IDs. In these cases, your function should return `None`. The detailed spec is below. We are giving you some freedom with how you implement this, but you'll probably want to break this task up into several small functions.\n",
    "\n",
    "**Hint**\n",
    "In some situations, the leading 0s in front of IMDB ids are important. IMDB ids have 7 digits"
   ]
  },
  {
   "cell_type": "code",
   "execution_count": 1,
   "metadata": {
    "collapsed": false
   },
   "outputs": [],
   "source": [
    "\"\"\"\n",
    "Function\n",
    "--------\n",
    "fetch_reviews(movies, row)\n",
    "\n",
    "Use the Rotten Tomatoes web API to fetch reviews for a particular movie\n",
    "\n",
    "Parameters\n",
    "----------\n",
    "movies : DataFrame \n",
    "  The movies data above\n",
    "row : int\n",
    "  The row of the movies DataFrame to use\n",
    "  \n",
    "Returns\n",
    "-------\n",
    "If you can match the IMDB id to a Rotten Tomatoes ID:\n",
    "  A DataFrame, containing the first 20 Top Critic reviews \n",
    "  for the movie. If a movie has less than 20 total reviews, return them all.\n",
    "  This should have the following columns:\n",
    "    critic : Name of the critic\n",
    "    fresh  : 'fresh' or 'rotten'\n",
    "    imdb   : IMDB id for the movie\n",
    "    publication: Publication that the critic writes for\n",
    "    quote  : string containing the movie review quote\n",
    "    review_date: Date of review\n",
    "    rtid   : Rotten Tomatoes ID for the movie\n",
    "    title  : Name of the movie\n",
    "    \n",
    "If you cannot match the IMDB id to a Rotten Tomatoes ID, return None\n",
    "\n",
    "Examples\n",
    "--------\n",
    ">>> reviews = fetch_reviews(movies, 0)\n",
    ">>> print len(reviews)\n",
    "20\n",
    ">>> print reviews.irow(1)\n",
    "critic                                               Derek Adams\n",
    "fresh                                                      fresh\n",
    "imdb                                                      114709\n",
    "publication                                             Time Out\n",
    "quote          So ingenious in concept, design and execution ...\n",
    "review_date                                           2009-10-04\n",
    "rtid                                                        9559\n",
    "title                                                  Toy story\n",
    "Name: 1, dtype: object\n",
    "\"\"\"\n",
    "#your code here\n",
    "def get_imdb_id(movies, row):\n",
    "    '''\n",
    "    Gets and formats the id from a movie in movies[row].\n",
    "    Returns: id is a string of length 7.\n",
    "    '''\n",
    "    imdb_id = str(movies.iloc[row].imdbID)\n",
    "    return imdb_id\n",
    "\n",
    "def format_imdb_id(imdb_id):\n",
    "    '''Formats a given imdb_id, such that it becomes a string of length 7 with\n",
    "    trailing zeros in front if neccessary.'''\n",
    "    if len(imdb_id) < 7:\n",
    "        imdb_id = imdb_id.zfill(7)\n",
    "    return imdb_id\n",
    "\n",
    "def fetch_reviews(movies, row):\n",
    "    imdb_id = format_imdb_id(get_imdb_id(movies, row))\n",
    "    api_key = '' # TODO make sure to not publish the key\n",
    "    \n",
    "    # get the rotten tomatoes ID from the Alias API\n",
    "    url = 'http://api.rottentomatoes.com/api/public/v1.0/movies_alias.json'\n",
    "    options = dict(id = imdb_id,\n",
    "               type = 'imdb',\n",
    "               apikey = api_key)\n",
    "    alias = json.loads(requests.get(url, params=options).text)\n",
    "    with open(\"data/movie_alias.json\") as json_file: # TODO: remove example file when valid key is available\n",
    "        alias = json.load(json_file)\n",
    "    try:\n",
    "        rt_id = json.dumps(alias['id'])\n",
    "        title = json.dumps(alias[\"title\"])\n",
    "    # return None if there is no matching rt_id\n",
    "    except KeyError:\n",
    "        return None\n",
    "    \n",
    "    # get the top 20 critics movies from the Movie Reviews API\n",
    "    url = \"http://api.rottentomatoes.com/api/public/v1.0/movies/%s/reviews.json\" % rt_id\n",
    "    options = dict(review_type = \"top_critic\",\n",
    "                   page_limit = 20,\n",
    "                   page = 1,\n",
    "                   country='us',\n",
    "                   apikey = api_key)\n",
    "    reviews = json.loads(requests.get(url, params=options).text)\n",
    "    with open(\"data/movie_reviews.json\") as json_file: # TODO: remove example file when valid key is available\n",
    "        reviews = json.load(json_file)\n",
    "    df = pd.read_json(json.dumps(reviews[\"reviews\"][:20]))  # dataframe that contains 20 reviews max\n",
    "    \n",
    "    # rename/add columns to the df\n",
    "    df = df.rename(columns={'date': 'review_date', 'freshness': 'fresh'})\n",
    "    df[\"rtid\"] = rt_id\n",
    "    df[\"imdb\"] = imdb_id\n",
    "    df[\"title\"] = title\n",
    "    # adjust data types\n",
    "    df[['critic', 'fresh', \"imdb\", \"publication\", \"quote\", \"rtid\", \"title\"]] = \\\n",
    "        df[['critic', 'fresh', \"imdb\", \"publication\", \"quote\", \"rtid\", \"title\"]].astype(str)\n",
    "    \n",
    "    return df[[\"critic\", \"fresh\", \"imdb\", \"publication\", \"quote\", \"review_date\", \"rtid\", \"title\"]]"
   ]
  },
  {
   "cell_type": "code",
   "execution_count": 58,
   "metadata": {
    "collapsed": false
   },
   "outputs": [],
   "source": [
    "# TODO: Remove this when RT key is available\n",
    "# Replaces the original reviews with reviews from TMBD, Problem: there are not enough reviews. \n",
    "\n",
    "def get_tmdb_info(imdb_id):\n",
    "    '''retrieve the tmdb_id and title for a movie by imdb_id'''\n",
    "    api_key = \"\"    # TODO: remove key before publishing\n",
    "    url = \"https://api.themoviedb.org/3/find/tt%s?external_source=imdb_id&api_key=%s\" % (imdb_id, api_key)\n",
    "    data = json.loads(requests.get(url).text)\n",
    "    data = data[\"movie_results\"][0]\n",
    "    return data[\"id\"], data[\"title\"]\n",
    "\n",
    "def fetch_tmdb_reviews(movies, row):\n",
    "    '''retrieves the imdb user reviews for a particular movie and returns them in list'''\n",
    "    imdb_id = format_imdb_id(get_imdb_id(movies, row))\n",
    "    tmdb_id, title = get_tmdb_info(imdb_id)\n",
    "    api_key = \"\"    # TODO: remove key before publishing\n",
    "    url = \"http://api.themoviedb.org/3/movie/%s/reviews?api_key=%s\" % (tmdb_id, api_key)\n",
    "    data = json.loads(requests.get(url).text)\n",
    "    reviews = data[\"results\"]\n",
    "    reviews = [' '.join(d[\"content\"].encode(\"utf8\").split()) for d in reviews]\n",
    "    reviews = [re.sub('[^A-Za-z0-9]+', ' ', s) for s in reviews]\n",
    "    return reviews\n",
    "    "
   ]
  },
  {
   "cell_type": "code",
   "execution_count": 59,
   "metadata": {
    "collapsed": false
   },
   "outputs": [
    {
     "name": "stdout",
     "output_type": "stream",
     "text": [
      "critic                 object\n",
      "fresh                  object\n",
      "imdb                   object\n",
      "publication            object\n",
      "quote                  object\n",
      "review_date    datetime64[ns]\n",
      "rtid                   object\n",
      "title                  object\n",
      "dtype: object\n",
      "\n",
      "<type 'str'>\n",
      "\n"
     ]
    },
    {
     "data": {
      "text/html": [
       "<div>\n",
       "<table border=\"1\" class=\"dataframe\">\n",
       "  <thead>\n",
       "    <tr style=\"text-align: right;\">\n",
       "      <th></th>\n",
       "      <th>critic</th>\n",
       "      <th>fresh</th>\n",
       "      <th>imdb</th>\n",
       "      <th>publication</th>\n",
       "      <th>quote</th>\n",
       "      <th>review_date</th>\n",
       "      <th>rtid</th>\n",
       "      <th>title</th>\n",
       "    </tr>\n",
       "  </thead>\n",
       "  <tbody>\n",
       "    <tr>\n",
       "      <th>0</th>\n",
       "      <td>Joe Baltake</td>\n",
       "      <td>fresh</td>\n",
       "      <td>0114709</td>\n",
       "      <td>Passionate Moviegoer</td>\n",
       "      <td>'Toy Story 3': Alternately affecting, hilariou...</td>\n",
       "      <td>2010-07-27</td>\n",
       "      <td>9818</td>\n",
       "      <td>\"Gone With the Wind\"</td>\n",
       "    </tr>\n",
       "    <tr>\n",
       "      <th>1</th>\n",
       "      <td>Rafer Guzman</td>\n",
       "      <td>fresh</td>\n",
       "      <td>0114709</td>\n",
       "      <td>Newsday</td>\n",
       "      <td>It's sadder and scarier than its predecessors,...</td>\n",
       "      <td>2010-07-06</td>\n",
       "      <td>9818</td>\n",
       "      <td>\"Gone With the Wind\"</td>\n",
       "    </tr>\n",
       "    <tr>\n",
       "      <th>2</th>\n",
       "      <td>Richard Roeper</td>\n",
       "      <td>fresh</td>\n",
       "      <td>0114709</td>\n",
       "      <td>Richard Roeper.com</td>\n",
       "      <td>The best movie of the year so far.</td>\n",
       "      <td>2010-06-30</td>\n",
       "      <td>9818</td>\n",
       "      <td>\"Gone With the Wind\"</td>\n",
       "    </tr>\n",
       "    <tr>\n",
       "      <th>3</th>\n",
       "      <td>David Edelstein</td>\n",
       "      <td>fresh</td>\n",
       "      <td>0114709</td>\n",
       "      <td>New York Magazine</td>\n",
       "      <td>The gags are all of a piece, right up to the f...</td>\n",
       "      <td>2010-06-18</td>\n",
       "      <td>9818</td>\n",
       "      <td>\"Gone With the Wind\"</td>\n",
       "    </tr>\n",
       "    <tr>\n",
       "      <th>4</th>\n",
       "      <td>Liam Lacey</td>\n",
       "      <td>fresh</td>\n",
       "      <td>0114709</td>\n",
       "      <td>Globe and Mail</td>\n",
       "      <td>At its best, most moving moments, Toy Story 3 ...</td>\n",
       "      <td>2010-06-18</td>\n",
       "      <td>9818</td>\n",
       "      <td>\"Gone With the Wind\"</td>\n",
       "    </tr>\n",
       "  </tbody>\n",
       "</table>\n",
       "</div>"
      ],
      "text/plain": [
       "            critic  fresh     imdb           publication                                              quote review_date  rtid                 title\n",
       "0      Joe Baltake  fresh  0114709  Passionate Moviegoer  'Toy Story 3': Alternately affecting, hilariou...  2010-07-27  9818  \"Gone With the Wind\"\n",
       "1     Rafer Guzman  fresh  0114709               Newsday  It's sadder and scarier than its predecessors,...  2010-07-06  9818  \"Gone With the Wind\"\n",
       "2   Richard Roeper  fresh  0114709    Richard Roeper.com                 The best movie of the year so far.  2010-06-30  9818  \"Gone With the Wind\"\n",
       "3  David Edelstein  fresh  0114709     New York Magazine  The gags are all of a piece, right up to the f...  2010-06-18  9818  \"Gone With the Wind\"\n",
       "4       Liam Lacey  fresh  0114709        Globe and Mail  At its best, most moving moments, Toy Story 3 ...  2010-06-18  9818  \"Gone With the Wind\""
      ]
     },
     "execution_count": 59,
     "metadata": {},
     "output_type": "execute_result"
    }
   ],
   "source": [
    "tmp =fetch_reviews(movies, 0)\n",
    "print tmp.dtypes\n",
    "print\n",
    "print type(tmp.quote[0])\n",
    "print\n",
    "tmp.head()"
   ]
  },
  {
   "cell_type": "markdown",
   "metadata": {},
   "source": [
    "#### P1.2\n",
    "\n",
    "Use the function you wrote to retrieve reviews for the first 3,000 movies in the movies dataframe.\n",
    "\n",
    "##### Hints\n",
    "* Rotten Tomatoes limits you to **10,000 API requests a day**. Be careful about this limit! Test your code on smaller inputs before scaling. You are responsible if you hit the limit the day the assignment is due :)\n",
    "* This will take a while to download. If you don't want to re-run this function every time you restart the notebook, you can save and re-load this data as a CSV file. However, please don't submit this file"
   ]
  },
  {
   "cell_type": "code",
   "execution_count": 60,
   "metadata": {
    "collapsed": false
   },
   "outputs": [],
   "source": [
    "\"\"\"\n",
    "Function\n",
    "--------\n",
    "build_table\n",
    "\n",
    "Parameters\n",
    "----------\n",
    "movies : DataFrame\n",
    "  The movies data above\n",
    "rows : int\n",
    "  The number of rows to extract reviews for\n",
    "  \n",
    "Returns\n",
    "--------\n",
    "A dataframe\n",
    "  The data obtained by repeatedly calling `fetch_reviews` on the first `rows`\n",
    "  of `movies`, discarding the `None`s,\n",
    "  and concatenating the results into a single DataFrame\n",
    "\"\"\"\n",
    "#your code here\n",
    "def build_table(movies, n_rows):\n",
    "    df = pd.DataFrame()\n",
    "    for row in range(0, n_rows):\n",
    "        df = df.append(fetch_reviews(movies, row), ignore_index=True)\n",
    "    return df"
   ]
  },
  {
   "cell_type": "code",
   "execution_count": 61,
   "metadata": {
    "collapsed": false
   },
   "outputs": [],
   "source": [
    "#you can toggle which lines are commented, if you\n",
    "#want to re-load your results to avoid repeatedly calling this function\n",
    "\n",
    "# critics = build_table(movies, 3000)\n",
    "# critics.to_csv('critics.csv', index=False)\n",
    "critics = pd.read_csv('critics.csv')\n",
    "\n",
    "\n",
    "#for this assignment, let's drop rows with missing data\n",
    "critics = critics[~critics.quote.isnull()]\n",
    "critics = critics[critics.fresh != 'none']\n",
    "critics = critics[critics.quote.str.len() > 0]"
   ]
  },
  {
   "cell_type": "markdown",
   "metadata": {},
   "source": [
    "A quick sanity check that everything looks ok at this point"
   ]
  },
  {
   "cell_type": "code",
   "execution_count": 62,
   "metadata": {
    "collapsed": false
   },
   "outputs": [],
   "source": [
    "assert set(critics.columns) == set('critic fresh imdb publication '\n",
    "                                   'quote review_date rtid title'.split())\n",
    "assert len(critics) > 10000"
   ]
  },
  {
   "cell_type": "code",
   "execution_count": 63,
   "metadata": {
    "collapsed": false
   },
   "outputs": [
    {
     "data": {
      "text/html": [
       "<div>\n",
       "<table border=\"1\" class=\"dataframe\">\n",
       "  <thead>\n",
       "    <tr style=\"text-align: right;\">\n",
       "      <th></th>\n",
       "      <th>critic</th>\n",
       "      <th>fresh</th>\n",
       "      <th>imdb</th>\n",
       "      <th>publication</th>\n",
       "      <th>quote</th>\n",
       "      <th>review_date</th>\n",
       "      <th>rtid</th>\n",
       "      <th>title</th>\n",
       "    </tr>\n",
       "  </thead>\n",
       "  <tbody>\n",
       "    <tr>\n",
       "      <th>0</th>\n",
       "      <td>Joe Baltake</td>\n",
       "      <td>fresh</td>\n",
       "      <td>114709</td>\n",
       "      <td>Passionate Moviegoer</td>\n",
       "      <td>'Toy Story 3': Alternately affecting, hilariou...</td>\n",
       "      <td>2010-07-27</td>\n",
       "      <td>9818</td>\n",
       "      <td>\"Gone With the Wind\"</td>\n",
       "    </tr>\n",
       "    <tr>\n",
       "      <th>1</th>\n",
       "      <td>Rafer Guzman</td>\n",
       "      <td>fresh</td>\n",
       "      <td>114709</td>\n",
       "      <td>Newsday</td>\n",
       "      <td>It's sadder and scarier than its predecessors,...</td>\n",
       "      <td>2010-07-06</td>\n",
       "      <td>9818</td>\n",
       "      <td>\"Gone With the Wind\"</td>\n",
       "    </tr>\n",
       "    <tr>\n",
       "      <th>2</th>\n",
       "      <td>Richard Roeper</td>\n",
       "      <td>fresh</td>\n",
       "      <td>114709</td>\n",
       "      <td>Richard Roeper.com</td>\n",
       "      <td>The best movie of the year so far.</td>\n",
       "      <td>2010-06-30</td>\n",
       "      <td>9818</td>\n",
       "      <td>\"Gone With the Wind\"</td>\n",
       "    </tr>\n",
       "    <tr>\n",
       "      <th>3</th>\n",
       "      <td>David Edelstein</td>\n",
       "      <td>fresh</td>\n",
       "      <td>114709</td>\n",
       "      <td>New York Magazine</td>\n",
       "      <td>The gags are all of a piece, right up to the f...</td>\n",
       "      <td>2010-06-18</td>\n",
       "      <td>9818</td>\n",
       "      <td>\"Gone With the Wind\"</td>\n",
       "    </tr>\n",
       "    <tr>\n",
       "      <th>4</th>\n",
       "      <td>Liam Lacey</td>\n",
       "      <td>fresh</td>\n",
       "      <td>114709</td>\n",
       "      <td>Globe and Mail</td>\n",
       "      <td>At its best, most moving moments, Toy Story 3 ...</td>\n",
       "      <td>2010-06-18</td>\n",
       "      <td>9818</td>\n",
       "      <td>\"Gone With the Wind\"</td>\n",
       "    </tr>\n",
       "  </tbody>\n",
       "</table>\n",
       "</div>"
      ],
      "text/plain": [
       "            critic  fresh    imdb           publication                                              quote review_date  rtid                 title\n",
       "0      Joe Baltake  fresh  114709  Passionate Moviegoer  'Toy Story 3': Alternately affecting, hilariou...  2010-07-27  9818  \"Gone With the Wind\"\n",
       "1     Rafer Guzman  fresh  114709               Newsday  It's sadder and scarier than its predecessors,...  2010-07-06  9818  \"Gone With the Wind\"\n",
       "2   Richard Roeper  fresh  114709    Richard Roeper.com                 The best movie of the year so far.  2010-06-30  9818  \"Gone With the Wind\"\n",
       "3  David Edelstein  fresh  114709     New York Magazine  The gags are all of a piece, right up to the f...  2010-06-18  9818  \"Gone With the Wind\"\n",
       "4       Liam Lacey  fresh  114709        Globe and Mail  At its best, most moving moments, Toy Story 3 ...  2010-06-18  9818  \"Gone With the Wind\""
      ]
     },
     "execution_count": 63,
     "metadata": {},
     "output_type": "execute_result"
    }
   ],
   "source": [
    "critics.head()"
   ]
  },
  {
   "cell_type": "markdown",
   "metadata": {},
   "source": [
    "## Part 2: Explore\n",
    "\n",
    "Before delving into analysis, get a sense of what these data look like. Answer the following questions. Include your code!"
   ]
  },
  {
   "cell_type": "markdown",
   "metadata": {},
   "source": [
    "**2.1** How many reviews, critics, and movies are in this dataset?\n"
   ]
  },
  {
   "cell_type": "code",
   "execution_count": 64,
   "metadata": {
    "collapsed": false
   },
   "outputs": [
    {
     "name": "stdout",
     "output_type": "stream",
     "text": [
      "critics: 20\n",
      "movies: 1\n",
      "reviews: 60000\n"
     ]
    }
   ],
   "source": [
    "#your code here\n",
    "print \"critics: %d\" % len(np.unique(critics.critic))\n",
    "print \"movies: %d\" % critics.title.unique().size\n",
    "print \"reviews: %d\" % len(critics)"
   ]
  },
  {
   "cell_type": "markdown",
   "metadata": {},
   "source": [
    "**2.2** What does the distribution of number of reviews per reviewer look like? Make a histogram"
   ]
  },
  {
   "cell_type": "code",
   "execution_count": 65,
   "metadata": {
    "collapsed": false
   },
   "outputs": [
    {
     "data": {
      "image/png": "[encoded data removed]",
      "text/plain": [
       "<matplotlib.figure.Figure at 0x112fa3310>"
      ]
     },
     "metadata": {},
     "output_type": "display_data"
    }
   ],
   "source": [
    "#Your code here\n",
    "fig = plt.figure()\n",
    "plt.subplot(121)\n",
    "critics.critic.value_counts().plot(kind=\"bar\")\n",
    "plt.ylabel(\"reviews\")\n",
    "plt.title(\"Number of reviews by critic\")\n",
    "\n",
    "plt.subplot(122)\n",
    "gr = critics.groupby(\"critic\").rtid.count()\n",
    "plt.hist(gr, log=True)\n",
    "plt.ylabel(\"frequency\")\n",
    "plt.xlabel(\"reviews\")\n",
    "plt.title(\"distribution of numbers of reviews\")\n",
    "plt.show()"
   ]
  },
  {
   "cell_type": "markdown",
   "metadata": {},
   "source": [
    "**2.3** List the 5 critics with the most reviews, along with the publication they write for"
   ]
  },
  {
   "cell_type": "code",
   "execution_count": 66,
   "metadata": {
    "collapsed": false
   },
   "outputs": [
    {
     "data": {
      "text/plain": [
       "critic            publication          \n",
       "Stephen Whitty    Newark Star-Ledger       3000\n",
       "Richard Roeper    Richard Roeper.com       3000\n",
       "Charlie McCollum  San Jose Mercury News    3000\n",
       "Chris Vognar      Dallas Morning News      3000\n",
       "Christopher Orr   The Atlantic             3000\n",
       "Name: rtid, dtype: int64"
      ]
     },
     "execution_count": 66,
     "metadata": {},
     "output_type": "execute_result"
    }
   ],
   "source": [
    "#Your code here\n",
    "counts = critics.groupby([\"critic\", \"publication\"]).count()\n",
    "counts.rtid.sort_values(ascending=False)[:5]"
   ]
  },
  {
   "cell_type": "markdown",
   "metadata": {},
   "source": [
    "**2.4** Of the critics with > 100 reviews, plot the distribution of average \"freshness\" rating per critic"
   ]
  },
  {
   "cell_type": "code",
   "execution_count": null,
   "metadata": {
    "collapsed": false
   },
   "outputs": [],
   "source": []
  },
  {
   "cell_type": "code",
   "execution_count": 67,
   "metadata": {
    "collapsed": false
   },
   "outputs": [
    {
     "data": {
      "text/plain": [
       "<matplotlib.text.Text at 0x1117b3fd0>"
      ]
     },
     "execution_count": 67,
     "metadata": {},
     "output_type": "execute_result"
    },
    {
     "data": {
      "image/png": "[encoded data removed]",
      "text/plain": [
       "<matplotlib.figure.Figure at 0x113daea50>"
      ]
     },
     "metadata": {},
     "output_type": "display_data"
    }
   ],
   "source": [
    "from IPython.display import display\n",
    "\n",
    "# recode fresh such that \"fresh\"-> 1 and \"rotten\"-> 0\n",
    "critics[\"isFresh\"] = critics.fresh.apply(lambda x: 1 if x == \"fresh\" else 0)   # simpler: critics.fresh == \"fresh\"\n",
    "\n",
    "grp = critics.groupby(\"critic\")\n",
    "counts = grp.rtid.count()\n",
    "means = grp.isFresh.mean()\n",
    "\n",
    "# Plotting\n",
    "plt.subplot(121)\n",
    "means[counts > 100].hist(log=True)\n",
    "plt.ylabel(\"frequencies\", fontsize=\"medium\")\n",
    "plt.xlabel(\"average rating\", fontsize=\"medium\")\n",
    "\n",
    "plt.subplot(122)\n",
    "means[counts > 100].plot(kind=\"bar\")\n",
    "plt.ylabel(\"average rating\", fontsize=\"medium\")\n",
    "plt.suptitle(\"Frequencies of average ratings per critic\", fontsize=\"large\")"
   ]
  },
  {
   "cell_type": "markdown",
   "metadata": {},
   "source": [
    "**2.5**\n",
    "Using the original `movies` dataframe, plot the rotten tomatoes Top Critics Rating as a function of year. Overplot the average for each year, ignoring the score=0 examples (some of these are missing data). Comment on the result -- is there a trend? What do you think it means?"
   ]
  },
  {
   "cell_type": "code",
   "execution_count": 68,
   "metadata": {
    "collapsed": false
   },
   "outputs": [
    {
     "data": {
      "text/html": [
       "<div>\n",
       "<table border=\"1\" class=\"dataframe\">\n",
       "  <thead>\n",
       "    <tr style=\"text-align: right;\">\n",
       "      <th></th>\n",
       "      <th>id</th>\n",
       "      <th>title</th>\n",
       "      <th>imdbID</th>\n",
       "      <th>spanishTitle</th>\n",
       "      <th>imdbPictureURL</th>\n",
       "      <th>year</th>\n",
       "      <th>rtID</th>\n",
       "      <th>rtAllCriticsRating</th>\n",
       "      <th>rtAllCriticsNumReviews</th>\n",
       "      <th>rtAllCriticsNumFresh</th>\n",
       "      <th>rtAllCriticsNumRotten</th>\n",
       "      <th>rtAllCriticsScore</th>\n",
       "      <th>rtTopCriticsRating</th>\n",
       "      <th>rtTopCriticsNumReviews</th>\n",
       "      <th>rtTopCriticsNumFresh</th>\n",
       "      <th>rtTopCriticsNumRotten</th>\n",
       "      <th>rtTopCriticsScore</th>\n",
       "      <th>rtAudienceRating</th>\n",
       "      <th>rtAudienceNumRatings</th>\n",
       "      <th>rtAudienceScore</th>\n",
       "      <th>rtPictureURL</th>\n",
       "    </tr>\n",
       "  </thead>\n",
       "  <tbody>\n",
       "    <tr>\n",
       "      <th>0</th>\n",
       "      <td>1</td>\n",
       "      <td>Toy story</td>\n",
       "      <td>114709</td>\n",
       "      <td>Toy story (juguetes)</td>\n",
       "      <td>http://ia.media-imdb.com/images/M/MV5BMTMwNDU0...</td>\n",
       "      <td>1995</td>\n",
       "      <td>toy_story</td>\n",
       "      <td>9</td>\n",
       "      <td>73</td>\n",
       "      <td>73</td>\n",
       "      <td>0</td>\n",
       "      <td>100</td>\n",
       "      <td>8.5</td>\n",
       "      <td>17</td>\n",
       "      <td>17</td>\n",
       "      <td>0</td>\n",
       "      <td>100</td>\n",
       "      <td>3.7</td>\n",
       "      <td>102338</td>\n",
       "      <td>81</td>\n",
       "      <td>http://content7.flixster.com/movie/10/93/63/10...</td>\n",
       "    </tr>\n",
       "    <tr>\n",
       "      <th>1</th>\n",
       "      <td>2</td>\n",
       "      <td>Jumanji</td>\n",
       "      <td>113497</td>\n",
       "      <td>Jumanji</td>\n",
       "      <td>http://ia.media-imdb.com/images/M/MV5BMzM5NjE1...</td>\n",
       "      <td>1995</td>\n",
       "      <td>1068044-jumanji</td>\n",
       "      <td>5.6</td>\n",
       "      <td>28</td>\n",
       "      <td>13</td>\n",
       "      <td>15</td>\n",
       "      <td>46</td>\n",
       "      <td>5.8</td>\n",
       "      <td>5</td>\n",
       "      <td>2</td>\n",
       "      <td>3</td>\n",
       "      <td>40</td>\n",
       "      <td>3.2</td>\n",
       "      <td>44587</td>\n",
       "      <td>61</td>\n",
       "      <td>http://content8.flixster.com/movie/56/79/73/56...</td>\n",
       "    </tr>\n",
       "  </tbody>\n",
       "</table>\n",
       "</div>"
      ],
      "text/plain": [
       "   id      title  imdbID          spanishTitle                                     imdbPictureURL  year             rtID rtAllCriticsRating rtAllCriticsNumReviews rtAllCriticsNumFresh rtAllCriticsNumRotten rtAllCriticsScore rtTopCriticsRating rtTopCriticsNumReviews rtTopCriticsNumFresh rtTopCriticsNumRotten rtTopCriticsScore rtAudienceRating rtAudienceNumRatings rtAudienceScore                                       rtPictureURL\n",
       "0   1  Toy story  114709  Toy story (juguetes)  http://ia.media-imdb.com/images/M/MV5BMTMwNDU0...  1995        toy_story                  9                     73                   73                     0               100                8.5                     17                   17                     0               100              3.7               102338              81  http://content7.flixster.com/movie/10/93/63/10...\n",
       "1   2    Jumanji  113497               Jumanji  http://ia.media-imdb.com/images/M/MV5BMzM5NjE1...  1995  1068044-jumanji                5.6                     28                   13                    15                46                5.8                      5                    2                     3                40              3.2                44587              61  http://content8.flixster.com/movie/56/79/73/56..."
      ]
     },
     "execution_count": 68,
     "metadata": {},
     "output_type": "execute_result"
    }
   ],
   "source": [
    "movies.head(2)"
   ]
  },
  {
   "cell_type": "code",
   "execution_count": 69,
   "metadata": {
    "collapsed": false
   },
   "outputs": [
    {
     "name": "stdout",
     "output_type": "stream",
     "text": [
      "['8.5' '5.8' '7' '5.5' '5.4' '7.2' '0' '5.6' '6.2' '3.7' '6.1' '4.7' '6.3'\n",
      " '8.1' '2.9' '4.5' '8.4' '7.4' '4.6' '4.9' '5.2' '5' '8.2' '7.9' '7.6'\n",
      " '6.4' '3.9' '6.7' '8.6' '6.6' '6.9' '3.4' '5.7' '7.5' '2' '3.1' '8' '4.3'\n",
      " '7.8' '3.8' '8.8' '5.1' '7.7' '6.5' '6.8' '5.3' '4' '\\\\N' '3.2' '5.9'\n",
      " '7.3' '6' '3.6' '4.4' '9.3' '7.1' '4.8' '4.2' '2.5' '3.5' '8.3' '3' '2.6'\n",
      " '4.1' '9.2' '3.3' '2.4' '1.7' '8.7' '8.9' '9.4' '2.8' '2.2' '9.1' '2.3'\n",
      " '2.7' '9.7' '9' '2.1' '9.8' '10' '1.6']\n"
     ]
    },
    {
     "data": {
      "text/plain": [
       "<matplotlib.text.Text at 0x11295d2d0>"
      ]
     },
     "execution_count": 69,
     "metadata": {},
     "output_type": "execute_result"
    },
    {
     "data": {
      "image/png": "[encoded data removed]",
      "text/plain": [
       "<matplotlib.figure.Figure at 0x111046f10>"
      ]
     },
     "metadata": {},
     "output_type": "display_data"
    }
   ],
   "source": [
    "#Your code here\n",
    "print movies.rtTopCriticsRating.unique()\n",
    "missing_values = [\"0\", \"\\\\N\"]\n",
    "df = movies[~movies.rtTopCriticsRating.isin(missing_values)]\n",
    "df.rtTopCriticsRating = df.rtTopCriticsRating.astype(float)\n",
    "sns.regplot(df.year, df.rtTopCriticsRating, fit_reg=True, scatter_kws={'alpha':0.2}, label=\"data\")\n",
    "\n",
    "grp = df.groupby(\"year\").mean()\n",
    "plt.plot(grp.index, grp.rtTopCriticsRating, label=\"Yearly average\")\n",
    "plt.legend()\n",
    "plt.ylabel(\"critics score\")"
   ]
  },
  {
   "cell_type": "raw",
   "metadata": {},
   "source": [
    "*Your Comment Here*\n",
    "There seems to be a trend that the top critics ratings have become worse over time. Yet this might be biased by selection, since older movies that were bad might have been forgotten while classics have been added to the database after the platform was launched. "
   ]
  },
  {
   "cell_type": "markdown",
   "metadata": {},
   "source": [
    "## Part 3: Sentiment Analysis\n",
    "\n",
    "You will now use a [Naive Bayes classifier](https://en.wikipedia.org/wiki/Naive_Bayes_classifier) to build a prediction model for whether a review is fresh or rotten, depending on the text of the review. See Lecture 9 for a discussion of Naive Bayes.\n",
    "\n",
    "Most models work with numerical data, so we need to convert the textual collection of reviews to something numerical. A common strategy for text classification is to represent each review as a \"bag of words\" vector -- a long vector\n",
    "of numbers encoding how many times a particular word appears in a blurb.\n",
    "\n",
    "Scikit-learn has an object called a `CountVectorizer` that turns text into a bag of words. Here's a quick tutorial:"
   ]
  },
  {
   "cell_type": "code",
   "execution_count": 70,
   "metadata": {
    "collapsed": false
   },
   "outputs": [
    {
     "name": "stdout",
     "output_type": "stream",
     "text": [
      "Original text is\n",
      "Hop on pop\n",
      "Hop off pop\n",
      "Hop Hop hop\n",
      "\n",
      "Transformed text vector is \n",
      "[[1 0 1 1]\n",
      " [1 1 0 1]\n",
      " [3 0 0 0]]\n",
      "\n",
      "Words for each feature:\n",
      "[u'hop', u'off', u'on', u'pop']\n"
     ]
    }
   ],
   "source": [
    "from sklearn.feature_extraction.text import CountVectorizer\n",
    "\n",
    "text = ['Hop on pop', 'Hop off pop', 'Hop Hop hop']\n",
    "print \"Original text is\\n\", '\\n'.join(text)\n",
    "\n",
    "vectorizer = CountVectorizer(min_df=0)\n",
    "\n",
    "# call `fit` to build the vocabulary\n",
    "vectorizer.fit(text)\n",
    "\n",
    "# call `transform` to convert text to a bag of words\n",
    "x = vectorizer.transform(text)\n",
    "\n",
    "# CountVectorizer uses a sparse array to save memory, but it's easier in this assignment to \n",
    "# convert back to a \"normal\" numpy array\n",
    "x = x.toarray()\n",
    "\n",
    "print\n",
    "print \"Transformed text vector is \\n\", x\n",
    "\n",
    "# `get_feature_names` tracks which word is associated with each column of the transformed x\n",
    "print\n",
    "print \"Words for each feature:\"\n",
    "print vectorizer.get_feature_names()\n",
    "\n",
    "# Notice that the bag of words treatment doesn't preserve information about the *order* of words, \n",
    "# just their frequency"
   ]
  },
  {
   "cell_type": "markdown",
   "metadata": {},
   "source": [
    "**3.1**\n",
    "\n",
    "Using the `critics` dataframe, compute a pair of numerical X, Y arrays where:\n",
    "    \n",
    " * X is a `(nreview, nwords)` array. Each row corresponds to a bag-of-words representation for a single review. This will be the *input* to your model.\n",
    " * Y is a `nreview`-element 1/0 array, encoding whether a review is Fresh (1) or Rotten (0). This is the desired *output* from your model.\n"
   ]
  },
  {
   "cell_type": "code",
   "execution_count": 71,
   "metadata": {
    "collapsed": false
   },
   "outputs": [
    {
     "name": "stdout",
     "output_type": "stream",
     "text": [
      "[[0 0 0 ..., 0 0 0]\n",
      " [0 0 0 ..., 0 0 0]\n",
      " [0 0 0 ..., 0 0 0]\n",
      " ..., \n",
      " [0 0 0 ..., 0 0 0]\n",
      " [0 0 0 ..., 0 0 0]\n",
      " [0 0 0 ..., 0 0 0]]\n",
      "(60000, 241)\n",
      "<type 'numpy.ndarray'>\n"
     ]
    }
   ],
   "source": [
    "vectorizer.fit(critics.quote.values)\n",
    "x = vectorizer.transform(critics.quote.values).toarray()\n",
    "print x\n",
    "print x.shape\n",
    "print type(x)"
   ]
  },
  {
   "cell_type": "code",
   "execution_count": 86,
   "metadata": {
    "collapsed": false
   },
   "outputs": [],
   "source": [
    "#hint: Consult the scikit-learn documentation to\n",
    "#      learn about what these classes do \n",
    "from sklearn.cross_validation import train_test_split\n",
    "from sklearn.naive_bayes import MultinomialNB\n",
    "\n",
    "\"\"\"\n",
    "Function\n",
    "--------\n",
    "make_xy\n",
    "\n",
    "Build a bag-of-words training set for the review data\n",
    "\n",
    "Parameters\n",
    "-----------\n",
    "critics : Pandas DataFrame\n",
    "    The review data from above\n",
    "    \n",
    "vectorizer : CountVectorizer object (optional)\n",
    "    A CountVectorizer object to use. If None,\n",
    "    then create and fit a new CountVectorizer.\n",
    "    Otherwise, re-fit the provided CountVectorizer\n",
    "    using the critics data\n",
    "    \n",
    "Returns\n",
    "-------\n",
    "X : numpy array (dims: nreview, nwords)\n",
    "    Bag-of-words representation for each review.\n",
    "Y : numpy array (dims: nreview)\n",
    "    1/0 array. 1 = fresh review, 0 = rotten review\n",
    "\n",
    "Examples\n",
    "--------\n",
    "X, Y = make_xy(critics)\n",
    "\"\"\"\n",
    "def make_xy(critics, vectorizer=None):\n",
    "    if vectorizer is None:\n",
    "        # initialize vectorizer\n",
    "        vectorizer = CountVectorizer(min_df=0) \n",
    "    # get a list of all reviews and fit the vectorizer on it\n",
    "    reviews = critics[\"quote\"].values\n",
    "    vectorizer.fit(reviews)\n",
    "    # get a bag-of-words representation for each review\n",
    "    X = vectorizer.transform(reviews).toarray()\n",
    "    # get a vector of classifications \n",
    "    Y = (critics.fresh == 'fresh').values.astype(np.int)\n",
    "    #Y = Y.reshape(-1,1)\n",
    "    return X,Y\n",
    "    \n"
   ]
  },
  {
   "cell_type": "code",
   "execution_count": 87,
   "metadata": {
    "collapsed": false
   },
   "outputs": [
    {
     "name": "stdout",
     "output_type": "stream",
     "text": [
      "[[0 0 0 ..., 0 0 0]\n",
      " [0 0 0 ..., 0 0 0]\n",
      " [0 0 0 ..., 0 0 0]\n",
      " ..., \n",
      " [0 0 0 ..., 0 0 0]\n",
      " [0 0 0 ..., 0 0 0]\n",
      " [0 0 0 ..., 0 0 0]] (60000, 241) <type 'numpy.ndarray'>\n",
      "\n",
      "[1 1 1 ..., 1 1 1] (60000,) <type 'numpy.ndarray'>\n"
     ]
    }
   ],
   "source": [
    "X, Y = make_xy(critics)\n",
    "print X, X.shape, type(X)\n",
    "print\n",
    "print Y, Y.shape, type(Y)"
   ]
  },
  {
   "cell_type": "code",
   "execution_count": 88,
   "metadata": {
    "collapsed": false
   },
   "outputs": [],
   "source": [
    "np.savetxt(\"data/X.csv\", X, delimiter=\",\")\n",
    "np.savetxt(\"data/Y.csv\", Y, delimiter=\",\")"
   ]
  },
  {
   "cell_type": "markdown",
   "metadata": {},
   "source": [
    "\n",
    "**3.2** Next, randomly split the data into two groups: a\n",
    "training set and a validation set. \n",
    "\n",
    "Use the training set to train a `MultinomialNB` classifier,\n",
    "and print the accuracy of this model on the validation set\n",
    "\n",
    "**Hint**\n",
    "You can use [`train_test_split`](http://scikit-learn.org/stable/modules/generated/sklearn.cross_validation.train_test_split.html) to split up the training data"
   ]
  },
  {
   "cell_type": "code",
   "execution_count": 75,
   "metadata": {
    "collapsed": false
   },
   "outputs": [
    {
     "data": {
      "text/plain": [
       "'We predict 100% correctly in the test set'"
      ]
     },
     "execution_count": 75,
     "metadata": {},
     "output_type": "execute_result"
    }
   ],
   "source": [
    "#Your code here\n",
    "X_train, X_test, Y_train, Y_test = train_test_split(X, Y, train_size=0.8, random_state=187)\n",
    "# train the model\n",
    "clf = MultinomialNB()\n",
    "clf.fit(X_train, Y_train)\n",
    "# make predictions and check the accuracy\n",
    "#pred = clf.predict(X_test)\n",
    "#compare = (pred == Y_test)\n",
    "#accuracy = np.sum(compare == True) / len(compare) * 100\n",
    "accuracy = clf.score(X_test, Y_test) * 100   # this is shorter\n",
    "\"We predict %d%% correctly in the test set\" % accuracy"
   ]
  },
  {
   "cell_type": "markdown",
   "metadata": {},
   "source": [
    "**3.3:**\n",
    "\n",
    "We say a model is **overfit** if it performs better on the training data than on the test data. Is this model overfit? If so, how much more accurate is the model on the training data compared to the test data?"
   ]
  },
  {
   "cell_type": "code",
   "execution_count": 76,
   "metadata": {
    "collapsed": false
   },
   "outputs": [
    {
     "name": "stdout",
     "output_type": "stream",
     "text": [
      "Accuracy on training data: 100.0\n",
      "Accuracy on test data: 100.0\n"
     ]
    }
   ],
   "source": [
    "# Your code here. Print the accuracy on the test and training dataset\n",
    "print \"Accuracy on training data:\", clf.score(X_train, Y_train) * 100\n",
    "print \"Accuracy on test data:\", clf.score(X_test, Y_test) * 100"
   ]
  },
  {
   "cell_type": "markdown",
   "metadata": {},
   "source": [
    "*Interpret these numbers in a few sentences here*\n",
    "For this we need the real dataset."
   ]
  },
  {
   "cell_type": "markdown",
   "metadata": {},
   "source": [
    "**3.4: Model Calibration**\n",
    "\n",
    "Bayesian models like the Naive Bayes classifier have the nice property that they compute probabilities of a particular classification -- the `predict_proba` and `predict_log_proba` methods of `MultinomialNB` compute these probabilities. \n",
    "\n",
    "Being the respectable Bayesian that you are, you should always assess whether these probabilities are **calibrated** -- that is, whether a prediction made with a confidence of `x%` is correct approximately `x%` of the time. We care about calibration because it tells us whether we can trust the probabilities computed by a model. If we can trust model probabilities, we can make better decisions using them (for example, we can calculate how much we should bet or invest in a given prediction).\n",
    "\n",
    "Let's make a plot to assess model calibration. Schematically, we want something like this:\n",
    "\n",
    "<img src=\"http://i.imgur.com/ea5B6zr.png\" width=500px>\n",
    "\n",
    "In words, we want to:\n",
    "\n",
    "* Take a collection of examples, and compute the freshness probability for each using `clf.predict_proba`\n",
    "* Gather examples into bins of similar freshness probability (the diagram shows 5 groups -- you should use something closer to 20)\n",
    "* For each bin, count the number of examples in that bin, and compute the fraction of examples in the bin which are fresh\n",
    "* In the upper plot, graph the expected P(Fresh) (x axis) and observed freshness fraction (Y axis). Estimate the uncertainty in observed freshness fraction $F$ via the [equation](http://en.wikipedia.org/wiki/Binomial_proportion_confidence_interval) $\\sigma = \\sqrt{F (1-F) / N}$\n",
    "* Overplot the line y=x. This is the trend we would expect if the model is calibrated\n",
    "* In the lower plot, show the number of examples in each bin\n",
    "\n",
    "**Hints**\n",
    "\n",
    "The output of `clf.predict_proba(X)` is a `(N example, 2)` array. The first column gives the probability $P(Y=0)$ or  $P(Rotten)$, and the second gives $P(Y=1)$ or $P(Fresh)$.\n",
    "\n",
    "The above image is just a guideline -- feel free to explore other options!"
   ]
  },
  {
   "cell_type": "code",
   "execution_count": 91,
   "metadata": {
    "collapsed": false
   },
   "outputs": [],
   "source": [
    "\"\"\"\n",
    "Function\n",
    "--------\n",
    "calibration_plot\n",
    "\n",
    "Builds a plot like the one above, from a classifier and review data\n",
    "\n",
    "Inputs\n",
    "-------\n",
    "clf : Classifier object\n",
    "    A MultinomialNB classifier\n",
    "X_test : (Nexample, Nfeature) array\n",
    "    The bag-of-words data\n",
    "Y_test : (Nexample) integer array\n",
    "    1 if a review is Fresh\n",
    "\"\"\"    \n",
    "#your code here\n",
    "def calibration_plot(clf, X_test, Y_test):\n",
    "    p = clf.predict_proba(X_test)\n",
    "    bins = np.linspace(0, 1, 20) \n",
    "    bin_counts = np.array( plt.hist(p, bins=20)[0] )\n",
    "    fresh_count = bin_counts[0]    # TODO: although stated above, I feel that it should be the other way round\n",
    "    rotten_count = bin_counts[1]   # TODO: so, maybe change with the column index above\n",
    "    fraction_of_fresh = fresh_count / bin_counts.sum(axis=0)   # if we divide by 0 we get none, so we\n",
    "    fraction_of_fresh = pd.DataFrame(fraction_of_fresh).fillna(0.).values  # replace all nan with 0\n",
    "    yerr = uncertainty_estimate(fraction_of_fresh)\n",
    "    \n",
    "    # plotting\n",
    "    ax1 = plt.subplot(211)\n",
    "    ax1.plot(bins, fraction_of_fresh)   \n",
    "    ax1.plot(bins, bins, \"k--\", lw=1)   # overplot the line y=x\n",
    "    ax1.errorbar(bins, fraction_of_fresh, yerr=yerr)\n",
    "    ax1.set_ylabel(\"Empirical P(fresh)\", fontsize=\"medium\")\n",
    "    ax1.set_ylim([-0.5,1.5])\n",
    "    \n",
    "    ax2 = plt.subplot(212, sharex=ax1)\n",
    "    ax2.hist(p[:,0], bins=bins)\n",
    "    ax2.set_ylabel(\"Frequency\", fontsize=\"medium\")\n",
    "    \n",
    "    ax2.set_xlabel(\"P(fresh)\", fontsize=\"large\")\n",
    "    plt.setp(ax1.get_xticklabels(), visible=False)   # hide x-labels in the upper subplot\n",
    "    \n",
    "    \n",
    "    \n",
    "def uncertainty_estimate(F):\n",
    "    ''' \n",
    "    Computes the Binomial proportion confidence intervals of F. \n",
    "    F might also be an array. \n",
    "    '''\n",
    "    N = len(F)\n",
    "    return np.sqrt( F*(1-F) / N)\n",
    "    \n",
    "    "
   ]
  },
  {
   "cell_type": "code",
   "execution_count": 92,
   "metadata": {
    "collapsed": false
   },
   "outputs": [
    {
     "data": {
      "image/png": "[encoded data removed]",
      "text/plain": [
       "<matplotlib.figure.Figure at 0x110f18990>"
      ]
     },
     "metadata": {},
     "output_type": "display_data"
    }
   ],
   "source": [
    "calibration_plot(clf, X_test, Y_test)"
   ]
  },
  {
   "cell_type": "markdown",
   "metadata": {},
   "source": [
    "**3.5** We might say a model is *over-confident* if the freshness fraction is usually closer to 0.5 than expected (that is, there is more uncertainty than the model predicted). Likewise, a model is *under-confident* if the probabilities are usually further away from 0.5. Is this model generally over- or under-confident? "
   ]
  },
  {
   "cell_type": "markdown",
   "metadata": {},
   "source": [
    "*Your Answer Here*\n",
    "\n",
    "**actual data needed! here's the answer from the solution:**\n",
    "\n",
    "This model is over-confident. For a properly calibrated model, we would expect ~10% of the P(Fresh)~0.1 reviews to actually be fresh. However, the actual freshness rate is closer to 30%. Likewise, for reviews where P(Fresh) ~0.9, the actuall freshness fraction is closer to 0.7. In other words, there is more uncertainty in the outcome than implied by the model.\n",
    "\n"
   ]
  },
  {
   "cell_type": "markdown",
   "metadata": {},
   "source": [
    "#### Cross Validation\n",
    "\n",
    "Our classifier has a few free parameters. The two most important are:\n",
    "\n",
    " 1. The `min_df` keyword in `CountVectorizer`, which will ignore words which appear in fewer than `min_df` fraction of reviews. Words that appear only once or twice can lead to overfitting, since words which occur only a few times might correlate very well with Fresh/Rotten reviews by chance in the training dataset.\n",
    " \n",
    " 2. The [`alpha` keyword](http://scikit-learn.org/stable/modules/naive_bayes.html#multinomial-naive-bayes) in the Bayesian classifier is a \"smoothing parameter\" -- increasing the value decreases the sensitivity to any single feature, and tends to pull prediction probabilities closer to 50%. \n",
    "\n",
    "As discussed in lecture and HW2, a common technique for choosing appropriate values for these parameters is **cross-validation**. Let's choose good parameters by maximizing the cross-validated log-likelihood.\n",
    "\n",
    "**3.6** Using `clf.predict_log_proba`, write a function that computes the log-likelihood of a dataset"
   ]
  },
  {
   "cell_type": "code",
   "execution_count": 93,
   "metadata": {
    "collapsed": false
   },
   "outputs": [],
   "source": [
    "\"\"\"\n",
    "Function\n",
    "--------\n",
    "log_likelihood\n",
    "\n",
    "Compute the log likelihood of a dataset according to a bayesian classifier. \n",
    "The Log Likelihood is defined by\n",
    "\n",
    "L = Sum_fresh(logP(fresh)) + Sum_rotten(logP(rotten))\n",
    "\n",
    "Where Sum_fresh indicates a sum over all fresh reviews, \n",
    "and Sum_rotten indicates a sum over rotten reviews\n",
    "    \n",
    "Parameters\n",
    "----------\n",
    "clf : Bayesian classifier\n",
    "x : (nexample, nfeature) array\n",
    "    The input data\n",
    "y : (nexample) integer array\n",
    "    Whether each review is Fresh\n",
    "\"\"\"\n",
    "#your code here\n",
    "def log_likelihood(clf, x, y):\n",
    "    logP = clf.predict_log_proba(x)\n",
    "    y = y.astype(bool)   # make it booleans\n",
    "    L = np.sum(logP[:, 1][y])    # boolean indexing\n",
    "    L += np.sum(logP[:, 0][~y])\n",
    "    return L\n",
    "    "
   ]
  },
  {
   "cell_type": "markdown",
   "metadata": {},
   "source": [
    "Here's a function to estimate the cross-validated value of a scoring function, given a classifier and data"
   ]
  },
  {
   "cell_type": "code",
   "execution_count": 94,
   "metadata": {
    "collapsed": false
   },
   "outputs": [],
   "source": [
    "from sklearn.cross_validation import KFold\n",
    "\n",
    "def cv_score(clf, x, y, score_func):\n",
    "    \"\"\"\n",
    "    Uses 5-fold cross validation to estimate a score of a classifier\n",
    "    \n",
    "    Inputs\n",
    "    ------\n",
    "    clf : Classifier object\n",
    "    x : Input feature vector\n",
    "    y : Input class labels\n",
    "    score_func : Function like log_likelihood, that takes (clf, x, y) as input,\n",
    "                 and returns a score\n",
    "                 \n",
    "    Returns\n",
    "    -------\n",
    "    The average score obtained by randomly splitting (x, y) into training and \n",
    "    test sets, fitting on the training set, and evaluating score_func on the test set\n",
    "    \n",
    "    Examples\n",
    "    cv_score(clf, x, y, log_likelihood)\n",
    "    \"\"\"\n",
    "    result = 0\n",
    "    nfold = 5\n",
    "    for train_idx, test_idx in KFold(y.size, nfold): # split data into train/test groups, 5 times\n",
    "        clf.fit(x[train_idx], y[train_idx]) # fit\n",
    "        result += score_func(clf, x[test_idx], y[test_idx]) # evaluate score function on held-out data\n",
    "    return result / nfold # average\n",
    "\n",
    "# as a side note, this function is builtin to the newest version of sklearn. We could just write\n",
    "# sklearn.cross_validation.cross_val_score(clf, x, y, scorer=log_likelihood)."
   ]
  },
  {
   "cell_type": "markdown",
   "metadata": {},
   "source": [
    "**3.7**\n",
    "\n",
    "Fill in the remaining code in this block, to loop over many values of `alpha` and `min_df` to determine\n",
    "which settings are \"best\" in the sense of maximizing the cross-validated log-likelihood"
   ]
  },
  {
   "cell_type": "code",
   "execution_count": 95,
   "metadata": {
    "collapsed": false
   },
   "outputs": [],
   "source": [
    "#the grid of parameters to search over\n",
    "alphas = [0, .1, 1, 5, 10, 50]\n",
    "min_dfs = [1e-5, 1e-4, 1e-3, 1e-2, 1e-1]\n",
    "\n",
    "#Find the best value for alpha and min_df, and the best classifier\n",
    "best_alpha = None\n",
    "best_min_df = None\n",
    "max_loglike = -np.inf\n",
    "\n",
    "for alpha in alphas:\n",
    "    for min_df in min_dfs:         \n",
    "        vectorizer = CountVectorizer(min_df = min_df)       \n",
    "        X, Y = make_xy(critics, vectorizer)\n",
    "        #your code here\n",
    "        clf = MultinomialNB(alpha=alpha)\n",
    "        new_score = cv_score(clf, X, Y, log_likelihood)\n",
    "        if new_score > max_loglike:\n",
    "            print \"bing!\"    # debug print\n",
    "            max_loglike = new_score\n",
    "            best_alpha = alpha\n",
    "            best_min_df = min_df"
   ]
  },
  {
   "cell_type": "code",
   "execution_count": 96,
   "metadata": {
    "collapsed": false
   },
   "outputs": [
    {
     "name": "stdout",
     "output_type": "stream",
     "text": [
      "alpha: None\n",
      "min_df: None\n"
     ]
    }
   ],
   "source": [
    "print \"alpha: {}\".format(best_alpha)\n",
    "print \"min_df: {}\".format(best_min_df)"
   ]
  },
  {
   "cell_type": "markdown",
   "metadata": {},
   "source": [
    "**3.8** Now that you've determined values for alpha and min_df that optimize the cross-validated log-likelihood, repeat the steps in 3.1, 3.2, and 3.4 to train a final classifier with these parameters, re-evaluate the accuracy, and draw a new calibration plot."
   ]
  },
  {
   "cell_type": "code",
   "execution_count": 97,
   "metadata": {
    "collapsed": false
   },
   "outputs": [
    {
     "data": {
      "image/png": "[encoded data removed]",
      "text/plain": [
       "<matplotlib.figure.Figure at 0x11bd24610>"
      ]
     },
     "metadata": {},
     "output_type": "display_data"
    }
   ],
   "source": [
    "#Your code here\n",
    "best_min_df = 0.001000    # TODO: remove this when we have real data\n",
    "best_alpha = 5.000000     # TODO: remove this when we have real data  \n",
    "\n",
    "\n",
    "# set a new vectorizer with optimal df and use it to generate new word-bags \n",
    "vectorizer = CountVectorizer(min_df=best_min_df) \n",
    "X, Y = make_xy(critics, vectorizer=vectorizer)\n",
    "\n",
    "X_train, X_test, Y_train, Y_test = train_test_split(X, Y, train_size=0.8, random_state=187)\n",
    "# train the model\n",
    "clf = MultinomialNB(alpha=best_alpha)\n",
    "clf.fit(X_train, Y_train)\n",
    "\n",
    "\"We predict %d%% correctly in the test set\" % (clf.score(X_test, Y_test) * 100)\n",
    "calibration_plot(clf, X_test, Y_test)"
   ]
  },
  {
   "cell_type": "markdown",
   "metadata": {},
   "source": [
    "**3.9** Discuss the various ways in which Cross-Validation has affected the model. Is the new model more or less accurate? Is overfitting better or worse? Is the model more or less calibrated?"
   ]
  },
  {
   "cell_type": "markdown",
   "metadata": {},
   "source": [
    "*Your Answer Here*\n",
    "\n",
    "**Answer from solution** *The new model is slightly less accurate on the test data (74% vs 77% on the original model). However, it is both better calibrated and less over-fit than before. In other words, while the classification accuracy is slightly worse, the probabilities themselves are more accurate. The model is still slightly over-confident when making low P(Fresh) predictions. However, the calibration plot shows the model is usually within 1 error bar of the expected performance where P(Fresh) >= 0.2. Finally, the new model makes less-conclusive predictions on average -- the histogram in the calibration plot is more uniformly distributed, with fewer predictions clustered around P(Fresh) = 0 or 1.*"
   ]
  },
  {
   "cell_type": "markdown",
   "metadata": {},
   "source": [
    "*To think about/play with, but not to hand in: What would happen if you tried this again using a function besides the log-likelihood -- for example, the classification accuracy?*"
   ]
  },
  {
   "cell_type": "markdown",
   "metadata": {},
   "source": [
    "## Part 4: Interpretation. What words best predict a fresh or rotten review?\n",
    "\n",
    "**4.1**\n",
    "Using your classifier and the `vectorizer.get_feature_names` method, determine which words best predict a positive or negative review. Print the 10 words\n",
    "that best predict a \"fresh\" review, and the 10 words that best predict a \"rotten\" review. For each word, what is the model's probability of freshness if the word appears one time?\n",
    "\n",
    "#### Hints\n",
    "\n",
    "* Try computing the classification probability for a feature vector which consists of all 0s, except for a single 1. What does this probability refer to?\n",
    "\n",
    "* `np.eye` generates a matrix where the ith row is all 0s, except for the ith column which is 1."
   ]
  },
  {
   "cell_type": "code",
   "execution_count": 98,
   "metadata": {
    "collapsed": false
   },
   "outputs": [
    {
     "name": "stdout",
     "output_type": "stream",
     "text": [
      "Best words\n",
      "----------\n",
      "yours : 0.0\n",
      "laughter : 0.0\n",
      "gags : 0.0\n",
      "gag : 0.0\n",
      "from : 0.0\n",
      "franchise : 0.0\n",
      "forlorn : 0.0\n",
      "forever : 0.0\n",
      "for : 0.0\n",
      "folks : 0.0\n",
      "\n",
      "Worst words\n",
      "-----------\n",
      "yours : 1.0\n",
      "laughter : 1.0\n",
      "gags : 1.0\n",
      "gag : 1.0\n",
      "from : 1.0\n",
      "franchise : 1.0\n",
      "forlorn : 1.0\n",
      "forever : 1.0\n",
      "for : 1.0\n",
      "folks : 1.0\n"
     ]
    }
   ],
   "source": [
    "# Your code here\n",
    "words = np.array(vectorizer.get_feature_names())\n",
    "\n",
    "p_fresh = clf.predict_proba(np.eye(241))[:,1]\n",
    "p_rotten = clf.predict_proba(np.eye(241))[:,0]\n",
    "\n",
    "idx = p_fresh.argsort()[-10:][::-1]\n",
    "best_words = words[idx]\n",
    "best_words_prob = p_fresh[idx]\n",
    "\n",
    "idx = p_rotten.argsort()[-10:][::-1]\n",
    "worst_words = words[idx]\n",
    "worst_words_prob = p_rotten[idx]\n",
    "\n",
    "print \"Best words\"\n",
    "print \"----------\"\n",
    "for item in zip(best_words, best_words_prob):\n",
    "    print item[0], \":\", item[1]\n",
    "\n",
    "print \"\\nWorst words\"\n",
    "print \"-----------\"\n",
    "for item in zip(worst_words, worst_words_prob):\n",
    "    print item[0], \":\", item[1]\n",
    "\n",
    "\n"
   ]
  },
  {
   "cell_type": "markdown",
   "metadata": {},
   "source": [
    "**4.2**\n",
    "\n",
    "One of the best sources for inspiration when trying to improve a model is to look at examples where the model performs poorly. \n",
    "\n",
    "Find 5 fresh and rotten reviews where your model performs particularly poorly. Print each review."
   ]
  },
  {
   "cell_type": "code",
   "execution_count": 127,
   "metadata": {
    "collapsed": false
   },
   "outputs": [
    {
     "name": "stdout",
     "output_type": "stream",
     "text": [
      "Reviews from fresh movies that we predicted poorly:\n",
      "---------------------------------------------------\n",
      "'Toy Story 3': Alternately affecting, hilarious and heartbreaking and the most original prison-escape movie ever made \n",
      "\n",
      "A worthy finale to a fantastic franchise. \n",
      "\n",
      "The story mixes comedy, drama and action with impressive skill, except this is beyond skill -- this is inspired. \n",
      "\n",
      "I won't tell you what that ending is, but it took my breath away, and I'll bet it takes yours. Do see this lovely film sooner than later. \n",
      "\n",
      "Toy Story 3 pays attention to the reasons we return again and again to the motion picture experience. \n",
      "\n",
      "\n",
      "Reviews from rotten movies that we predicted poorly:\n",
      "---------------------------------------------------\n"
     ]
    }
   ],
   "source": [
    "#Your code here \n",
    "p_fresh = clf.predict_proba(X)[:, 0]     # TODO: Again, I switched the indexes here, \n",
    "p_rotten = clf.predict_proba(X)[:, 1]    # TODO: and here. Test with real data.\n",
    "# I want 5 reviews where P(fresh) is very low, yet the rating is rotten, and vice versa. \n",
    "critics[\"p_fresh\"] = p_fresh\n",
    "critics[\"p_rotten\"] = p_rotten\n",
    "\n",
    "print \"Reviews from fresh movies that we predicted poorly:\"\n",
    "print \"---------------------------------------------------\"\n",
    "poor_fresh_predictions = critics[critics.isFresh == 1].sort_values(\"p_fresh\", ascending=True).quote[:5]\n",
    "for i in poor_fresh_predictions:\n",
    "    print i, \"\\n\"\n",
    "    \n",
    "\n",
    "    \n",
    "print \"\\nReviews from rotten movies that we predicted poorly:\"\n",
    "print \"---------------------------------------------------\"\n",
    "poor_rotten_predictions = critics[critics.isFresh == 0].sort_values(\"p_rotten\", ascending=True).quote[:5]\n",
    "for i in poor_rotten_predictions:\n",
    "    print i, \"\\n\""
   ]
  },
  {
   "cell_type": "markdown",
   "metadata": {},
   "source": [
    "**4.3** What do you notice about these mis-predictions? Naive Bayes classifiers assume that every word affects the probability independently of other words. In what way is this a bad assumption? In your answer, report your classifier's Freshness probability for the review \"This movie is not remarkable, touching, or superb in any way\"."
   ]
  },
  {
   "cell_type": "code",
   "execution_count": 128,
   "metadata": {
    "collapsed": false
   },
   "outputs": [
    {
     "data": {
      "text/plain": [
       "array([[ 1.,  0.]])"
      ]
     },
     "execution_count": 128,
     "metadata": {},
     "output_type": "execute_result"
    }
   ],
   "source": [
    "clf.predict_proba(vectorizer.transform(['This movie is not remarkable, touching, or superb in any way']))"
   ]
  },
  {
   "cell_type": "markdown",
   "metadata": {},
   "source": [
    "*Your answer here*\n",
    "\n",
    "**Answer** *Many mis-predictions seem due to the fact that the quotes use more ambivalent language -- quotes along the lines of \"this should have been a good movie, but it wasn't\". Words like \"but\", \"not\", etc. act to negate the sentiment of words. However, because Naive Bayes treats each word separately, it isn't able to capture these kind of word interactions. Because the quote \"this movie is not remarkable, touching, or superb in any way\" contains typically positive words like remarkabke/touching/superb, the classifier gives it P(Fresh)=0.98.*"
   ]
  },
  {
   "cell_type": "markdown",
   "metadata": {},
   "source": [
    "**4.4**\n",
    "If this was your final project, what are 3 things you would try in order to build a more effective review classifier? What other exploratory or explanatory visualizations do you think might be helpful?"
   ]
  },
  {
   "cell_type": "markdown",
   "metadata": {},
   "source": [
    "*Your answer here*\n",
    "\n",
    "1. You could try to build a NB model where the features are word pairs instead of words. This would be smart enough to realize that \"not good\" and \"so good\" mean very different things. This technique doesn't scale very well, since these features are much more sparse (and hence harder to detect repeatable patterns within).\n",
    "2. You could try a model besides NB, that would allow for interactions between words -- for example, a Random Forest classifier.\n",
    "3. You could consider adding supplemental features -- information about genre, director, cast, etc.\n",
    "4. You could build a visualization that prints word reviews, and visually encodes each word with size or color to indicate how that word contributes to P(Fresh). For example, really bad words could show up as big and red, good words as big and green, common words as small and grey, etc."
   ]
  },
  {
   "cell_type": "markdown",
   "metadata": {},
   "source": [
    "### How to Submit\n",
    "\n",
    "Restart and run your notebook one last time, to make sure the output from each cell is up to date. To submit your homework, create a folder named lastname_firstinitial_hw3 and place your solutions in the folder. Double check that the file is still called HW3.ipynb, and that it contains your code. Please do **not** include the critics.csv data file, if you created one. Compress the folder (please use .zip compression) and submit to the CS109 dropbox in the appropriate folder. If we cannot access your work because these directions are not followed correctly, we will not grade your work!"
   ]
  },
  {
   "cell_type": "markdown",
   "metadata": {},
   "source": [
    "---\n",
    "*css tweaks in this cell*\n",
    "<style>\n",
    "div.text_cell_render {\n",
    "    line-height: 150%;\n",
    "    font-size: 110%;\n",
    "    width: 800px;\n",
    "    margin-left:50px;\n",
    "    margin-right:auto;\n",
    "    }\n",
    "</style>"
   ]
  }
 ],
 "metadata": {
  "kernelspec": {
   "display_name": "Python 2",
   "language": "python",
   "name": "python2"
  },
  "language_info": {
   "codemirror_mode": {
    "name": "ipython",
    "version": 2
   },
   "file_extension": ".py",
   "mimetype": "text/x-python",
   "name": "python",
   "nbconvert_exporter": "python",
   "pygments_lexer": "ipython2",
   "version": "2.7.11"
  }
 },
 "nbformat": 4,
 "nbformat_minor": 0
}
